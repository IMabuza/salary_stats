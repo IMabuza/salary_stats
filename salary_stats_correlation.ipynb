{
 "cells": [
  {
   "cell_type": "code",
   "execution_count": 24,
   "metadata": {},
   "outputs": [],
   "source": [
    "import pandas as pd\n",
    "import numpy as np\n",
    "from scipy import stats\n",
    "import matplotlib.pyplot as plt\n",
    "import seaborn as sns\n",
    "\n",
    "df = pd.read_csv('salary.csv')\n",
    "\n",
    "#Check how many responders are in the dataframe and if the df has any null values\n",
    "\n",
    "df.isnull().sum().sum()\n",
    "null_value_info = df[df['salary'].isnull()]\n",
    "\n",
    "#Drop null value row\n",
    "\n",
    "df = df.drop(208)\n"
   ]
  },
  {
   "cell_type": "markdown",
   "metadata": {},
   "source": [
    "##### 513 responders\n",
    "##### 1 null value\n",
    "##### Null value on index 208 in the salary column\n",
    "###### Null value row removed"
   ]
  },
  {
   "cell_type": "code",
   "execution_count": 25,
   "metadata": {},
   "outputs": [],
   "source": [
    "#Lowest and Highest Salary in the Group\n",
    "\n",
    "salary = df['salary']\n",
    "\n",
    "highest_salary =salary.max()\n",
    "\n",
    "lowest_salary = salary"
   ]
  },
  {
   "cell_type": "markdown",
   "metadata": {},
   "source": [
    "##### Max Salary = 96156.0 \n",
    "##### Min Salary = 29000.0"
   ]
  },
  {
   "cell_type": "code",
   "execution_count": 28,
   "metadata": {},
   "outputs": [],
   "source": [
    "#Mean salary and mean standard error\n",
    "\n",
    "salary_mean = salary.mean()\n",
    "\n",
    "std_mean_er = stats.sem(salary)\n"
   ]
  },
  {
   "cell_type": "markdown",
   "metadata": {},
   "source": [
    "##### Salary Mean = 50863.22\n",
    "##### Mean Standard Error = 560.06"
   ]
  },
  {
   "cell_type": "code",
   "execution_count": 30,
   "metadata": {},
   "outputs": [],
   "source": [
    "#standard deviation for years worked\n",
    "\n",
    "years_worked = df['yearsworked']\n",
    "\n",
    "years_worked_std = years_worked.std()"
   ]
  },
  {
   "cell_type": "markdown",
   "metadata": {},
   "source": [
    "##### Standard Deviation = 9.447040460636984"
   ]
  },
  {
   "cell_type": "code",
   "execution_count": 31,
   "metadata": {},
   "outputs": [],
   "source": [
    "#median salary for the sample\n",
    "\n",
    "salary_med = salary.median()"
   ]
  },
  {
   "cell_type": "markdown",
   "metadata": {},
   "source": [
    "##### Salary Median = 50096.0"
   ]
  },
  {
   "cell_type": "code",
   "execution_count": 33,
   "metadata": {},
   "outputs": [],
   "source": [
    "#salary interquartile range\n",
    "\n",
    "salary_iqr = stats.iqr(salary)"
   ]
  },
  {
   "cell_type": "markdown",
   "metadata": {},
   "source": [
    "##### salary IQR = 20345.0"
   ]
  },
  {
   "cell_type": "code",
   "execution_count": 35,
   "metadata": {},
   "outputs": [
    {
     "data": {
      "text/plain": [
       "<matplotlib.table.Table at 0x7fe27249c588>"
      ]
     },
     "execution_count": 35,
     "metadata": {},
     "output_type": "execute_result"
    },
    {
     "data": {
      "image/png": "[encoded data removed]",
      "text/plain": [
       "<Figure size 432x288 with 1 Axes>"
      ]
     },
     "metadata": {
      "needs_background": "light"
     },
     "output_type": "display_data"
    }
   ],
   "source": [
    "#Number of men and number of women in the sample\n",
    "fig, ax = plt.subplots()\n",
    "\n",
    "# Hide axes\n",
    "ax.xaxis.set_visible(False) \n",
    "ax.yaxis.set_visible(False)\n",
    "\n",
    "collabel=(\"Female\", \"Male\")\n",
    "ax.table(cellText=clust_data,colLabels=collabel,loc='center')"
   ]
  },
  {
   "cell_type": "markdown",
   "metadata": {},
   "source": [
    "##### Females = 128\n",
    "##### Males = 385"
   ]
  },
  {
   "cell_type": "code",
   "execution_count": 8,
   "metadata": {},
   "outputs": [
    {
     "data": {
      "text/plain": [
       "1    191\n",
       "0     19\n",
       "Name: male, dtype: int64"
      ]
     },
     "execution_count": 8,
     "metadata": {},
     "output_type": "execute_result"
    }
   ],
   "source": [
    "#Executive men vs women\n",
    "\n",
    "exec_series = df['position'] == 3\n",
    "\n",
    "position_df = df[exec_series]\n",
    "\n",
    "position_df['male'].value_counts()\n",
    "\n",
    "#There are 191 males and 19 female executives"
   ]
  },
  {
   "cell_type": "markdown",
   "metadata": {},
   "source": [
    "##### Male Executives = 191\n",
    "##### Female Executives = 19"
   ]
  },
  {
   "cell_type": "code",
   "execution_count": 9,
   "metadata": {},
   "outputs": [
    {
     "data": {
      "image/png": "[encoded data removed]",
      "text/plain": [
       "<Figure size 432x288 with 1 Axes>"
      ]
     },
     "metadata": {
      "needs_background": "light"
     },
     "output_type": "display_data"
    }
   ],
   "source": [
    "#salary histogram\n",
    "\n",
    "plt.hist(salary)\n",
    "\n",
    "plt.show()"
   ]
  },
  {
   "cell_type": "markdown",
   "metadata": {},
   "source": [
    "###### The distribution is right-tailed, showing more outliers on the right. The average salary is 50863.22 with more people earling less than 50000 and small number earning above 70000"
   ]
  },
  {
   "cell_type": "code",
   "execution_count": 36,
   "metadata": {},
   "outputs": [
    {
     "data": {
      "text/plain": [
       "12685.132357963686"
      ]
     },
     "execution_count": 36,
     "metadata": {},
     "output_type": "execute_result"
    }
   ],
   "source": [
    "salary.std()"
   ]
  },
  {
   "cell_type": "markdown",
   "metadata": {},
   "source": [
    "##### Salary Standard Deviation = 12685.132357963686"
   ]
  },
  {
   "cell_type": "code",
   "execution_count": 11,
   "metadata": {},
   "outputs": [],
   "source": []
  },
  {
   "cell_type": "code",
   "execution_count": 37,
   "metadata": {},
   "outputs": [
    {
     "name": "stdout",
     "output_type": "stream",
     "text": [
      "53505.21167825973\n",
      "42916.60479734375\n"
     ]
    },
    {
     "data": {
      "image/png": "[encoded data removed]",
      "text/plain": [
       "<Figure size 432x288 with 1 Axes>"
      ]
     },
     "metadata": {
      "needs_background": "light"
     },
     "output_type": "display_data"
    }
   ],
   "source": [
    "#Female and Male average salary bargraph\n",
    "\n",
    "females = df['male'] == 0\n",
    "males = df['male'] == 1\n",
    "\n",
    "female_sal = df[females]\n",
    "male_sal =df[males]\n",
    "\n",
    "male_sal_avg = male_sal['salary'].mean()\n",
    "female_sal_avg = female_sal['salary'].mean()\n",
    "\n",
    "salaries = [male_sal_avg, female_sal_avg]\n",
    "\n",
    "label = ['male', 'female']\n",
    "\n",
    "x = np.arange(len(label))\n",
    "\n",
    "plt.bar(x, salaries)\n",
    "plt.xticks(x,label, fontsize=10, rotation=30)\n",
    "plt.ylabel('Salary', fontsize=10)\n",
    "plt.xlabel('Gender', fontsize=10)\n",
    "plt.show()\n",
    "\n"
   ]
  },
  {
   "cell_type": "markdown",
   "metadata": {},
   "source": [
    "##### male average salary = 53505.21167825973\n",
    "##### female average salary = 42916.60479734375"
   ]
  },
  {
   "cell_type": "code",
   "execution_count": 13,
   "metadata": {},
   "outputs": [
    {
     "name": "stderr",
     "output_type": "stream",
     "text": [
      "/home/umuzi/anaconda3/lib/python3.7/site-packages/scipy/stats/stats.py:1713: FutureWarning: Using a non-tuple sequence for multidimensional indexing is deprecated; use `arr[tuple(seq)]` instead of `arr[seq]`. In the future this will be interpreted as an array index, `arr[np.array(seq)]`, which will result either in an error or a different result.\n",
      "  return np.add.reduce(sorted[indexer] * weights, axis=axis) / sumval\n"
     ]
    },
    {
     "data": {
      "image/png": "[encoded data removed]",
      "text/plain": [
       "<Figure size 432x288 with 1 Axes>"
      ]
     },
     "metadata": {
      "needs_background": "light"
     },
     "output_type": "display_data"
    }
   ],
   "source": [
    "#Scatter plot between years worked and salary\n",
    "\n",
    "sns.regplot(df['yearsworked'], df['salary'])\n",
    "plt.xlabel('Year Worked')\n",
    "plt.ylabel('Salary')\n",
    "plt.show()"
   ]
  },
  {
   "cell_type": "markdown",
   "metadata": {},
   "source": [
    "##### There more experience you have, there more pay you get. There is a linear liner relationship between years worked and salary. However there are many outliers where people get more pay for less experience."
   ]
  },
  {
   "cell_type": "code",
   "execution_count": 38,
   "metadata": {},
   "outputs": [
    {
     "data": {
      "text/plain": [
       "(0.6235888657598045, 1.2873351342921916e-56)"
      ]
     },
     "execution_count": 38,
     "metadata": {},
     "output_type": "execute_result"
    }
   ],
   "source": [
    "stats.pearsonr(df['yearsworked'], df['salary'])"
   ]
  },
  {
   "cell_type": "code",
   "execution_count": null,
   "metadata": {},
   "outputs": [],
   "source": []
  }
 ],
 "metadata": {
  "kernelspec": {
   "display_name": "Python 3",
   "language": "python",
   "name": "python3"
  },
  "language_info": {
   "codemirror_mode": {
    "name": "ipython",
    "version": 3
   },
   "file_extension": ".py",
   "mimetype": "text/x-python",
   "name": "python",
   "nbconvert_exporter": "python",
   "pygments_lexer": "ipython3",
   "version": "3.7.1"
  }
 },
 "nbformat": 4,
 "nbformat_minor": 2
}
