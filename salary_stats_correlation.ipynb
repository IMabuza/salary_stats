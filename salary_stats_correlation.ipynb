{
 "cells": [
  {
   "cell_type": "code",
   "execution_count": 1,
   "metadata": {},
   "outputs": [
    {
     "name": "stdout",
     "output_type": "stream",
     "text": [
      "<class 'pandas.core.frame.DataFrame'>\n",
      "RangeIndex: 514 entries, 0 to 513\n",
      "Data columns (total 11 columns):\n",
      "salary         513 non-null float64\n",
      "exprior        514 non-null int64\n",
      "yearsworked    514 non-null int64\n",
      "yearsrank      514 non-null int64\n",
      "market         514 non-null float64\n",
      "degree         514 non-null int64\n",
      "otherqual      514 non-null int64\n",
      "position       514 non-null int64\n",
      "male           514 non-null int64\n",
      "Field          514 non-null int64\n",
      "yearsabs       514 non-null int64\n",
      "dtypes: float64(2), int64(9)\n",
      "memory usage: 44.2 KB\n",
      "     salary  exprior  yearsworked  yearsrank  market  degree  otherqual  \\\n",
      "208     NaN        0           21         10    0.93       1          0   \n",
      "\n",
      "     position  male  Field  yearsabs  \n",
      "208         3     1      4         1  \n"
     ]
    }
   ],
   "source": [
    "import pandas as pd\n",
    "import numpy as np\n",
    "from scipy import stats\n",
    "import matplotlib.pyplot as plt\n",
    "import seaborn as sns\n",
    "\n",
    "df = pd.read_csv('salary.csv')\n",
    "\n",
    "#Check how many responders are in the dataframe and if the df has any null values\n",
    "\n",
    "df.info()\n",
    "df.isnull().sum().sum()\n",
    "null_value_info = df[df['salary'].isnull()]\n",
    "print(null_value_info)\n",
    "\n",
    "#514 responders\n",
    "#One null value\n",
    "#Null value on index 208 in the salary column\n"
   ]
  },
  {
   "cell_type": "code",
   "execution_count": 2,
   "metadata": {},
   "outputs": [
    {
     "name": "stdout",
     "output_type": "stream",
     "text": [
      "96156.0\n",
      "29000.0\n"
     ]
    }
   ],
   "source": [
    "#Lowest and Highest Salary in the Group\n",
    "\n",
    "salary = df['salary']\n",
    "\n",
    "highest_salary =salary.max()\n",
    "print(highest_salary)\n",
    "\n",
    "lowest_salary = salary.min()\n",
    "print(lowest_salary)"
   ]
  },
  {
   "cell_type": "code",
   "execution_count": 3,
   "metadata": {},
   "outputs": [
    {
     "name": "stdout",
     "output_type": "stream",
     "text": [
      "50863.22009783626\n",
      "560.0622753925232\n"
     ]
    }
   ],
   "source": [
    "#Mean salary and mean standard error\n",
    "\n",
    "salary_mean = salary.mean()\n",
    "\n",
    "print(salary_mean)\n",
    "\n",
    "std_mean_er = stats.sem(salary, nan_policy='omit')\n",
    "\n",
    "print(std_mean_er)"
   ]
  },
  {
   "cell_type": "code",
   "execution_count": 4,
   "metadata": {},
   "outputs": [
    {
     "name": "stdout",
     "output_type": "stream",
     "text": [
      "9.444695144169813\n"
     ]
    }
   ],
   "source": [
    "#standard deviation for years worked\n",
    "\n",
    "years_worked = df['yearsworked']\n",
    "\n",
    "years_worked_std = years_worked.std()\n",
    "\n",
    "print(years_worked_std)\n"
   ]
  },
  {
   "cell_type": "code",
   "execution_count": 5,
   "metadata": {},
   "outputs": [
    {
     "name": "stdout",
     "output_type": "stream",
     "text": [
      "50096.0\n"
     ]
    }
   ],
   "source": [
    "#median salary for the sample\n",
    "\n",
    "salary_med = salary.median()\n",
    "\n",
    "print(salary_med)"
   ]
  },
  {
   "cell_type": "code",
   "execution_count": 6,
   "metadata": {},
   "outputs": [
    {
     "name": "stdout",
     "output_type": "stream",
     "text": [
      "20345.0\n"
     ]
    }
   ],
   "source": [
    "#salary interquartile range\n",
    "\n",
    "salary_iqr = stats.iqr(salary, nan_policy='omit')\n",
    "\n",
    "print(salary_iqr)"
   ]
  },
  {
   "cell_type": "code",
   "execution_count": 7,
   "metadata": {},
   "outputs": [
    {
     "name": "stdout",
     "output_type": "stream",
     "text": [
      "1    386\n",
      "0    128\n",
      "Name: male, dtype: int64\n"
     ]
    },
    {
     "data": {
      "text/plain": [
       "<matplotlib.table.Table at 0x7fa157ca2278>"
      ]
     },
     "execution_count": 7,
     "metadata": {},
     "output_type": "execute_result"
    },
    {
     "data": {
      "image/png": "[encoded data removed]",
      "text/plain": [
       "<Figure size 432x288 with 1 Axes>"
      ]
     },
     "metadata": {
      "needs_background": "light"
     },
     "output_type": "display_data"
    }
   ],
   "source": [
    "#Number of men and number of women in tyhe sample\n",
    "\n",
    "print(df['male'].value_counts())\n",
    "\n",
    "fig, ax = plt.subplots()\n",
    "\n",
    "# Hide axes\n",
    "ax.xaxis.set_visible(False) \n",
    "ax.yaxis.set_visible(False)\n",
    "\n",
    "# Table from Ed Smith answer\n",
    "clust_data = [df['male'].value_counts()]\n",
    "collabel=(\"Female\", \"Male\")\n",
    "ax.table(cellText=clust_data,colLabels=collabel,loc='center')"
   ]
  },
  {
   "cell_type": "code",
   "execution_count": 8,
   "metadata": {},
   "outputs": [
    {
     "data": {
      "text/plain": [
       "1    192\n",
       "0     19\n",
       "Name: male, dtype: int64"
      ]
     },
     "execution_count": 8,
     "metadata": {},
     "output_type": "execute_result"
    }
   ],
   "source": [
    "#Executive men vs women\n",
    "\n",
    "exec_series = df['position'] == 3\n",
    "\n",
    "position_df = df[exec_series]\n",
    "\n",
    "position_df['male'].value_counts()\n",
    "\n",
    "#There are 192 males and 19 female executives"
   ]
  },
  {
   "cell_type": "code",
   "execution_count": 9,
   "metadata": {},
   "outputs": [
    {
     "name": "stderr",
     "output_type": "stream",
     "text": [
      "/home/umuzi/miniconda3/lib/python3.7/site-packages/numpy/lib/histograms.py:754: RuntimeWarning: invalid value encountered in greater_equal\n",
      "  keep = (tmp_a >= first_edge)\n",
      "/home/umuzi/miniconda3/lib/python3.7/site-packages/numpy/lib/histograms.py:755: RuntimeWarning: invalid value encountered in less_equal\n",
      "  keep &= (tmp_a <= last_edge)\n"
     ]
    },
    {
     "data": {
      "image/png": "[encoded data removed]",
      "text/plain": [
       "<Figure size 432x288 with 1 Axes>"
      ]
     },
     "metadata": {
      "needs_background": "light"
     },
     "output_type": "display_data"
    }
   ],
   "source": [
    "#salary histogram\n",
    "\n",
    "plt.hist(salary)\n",
    "\n",
    "plt.show()"
   ]
  },
  {
   "cell_type": "code",
   "execution_count": 10,
   "metadata": {},
   "outputs": [
    {
     "data": {
      "text/plain": [
       "12685.132357963685"
      ]
     },
     "execution_count": 10,
     "metadata": {},
     "output_type": "execute_result"
    }
   ],
   "source": [
    "salary.std()"
   ]
  },
  {
   "cell_type": "code",
   "execution_count": 11,
   "metadata": {},
   "outputs": [],
   "source": [
    "#Distribution obeservation\n",
    "\n",
    "#The distribution is rightly skwed, showing more outliers on the right"
   ]
  },
  {
   "cell_type": "code",
   "execution_count": 12,
   "metadata": {},
   "outputs": [
    {
     "data": {
      "image/png": "[encoded data removed]",
      "text/plain": [
       "<Figure size 432x288 with 1 Axes>"
      ]
     },
     "metadata": {
      "needs_background": "light"
     },
     "output_type": "display_data"
    }
   ],
   "source": [
    "#Female and Male average salary bargraph\n",
    "\n",
    "females = df['male'] == 0\n",
    "males = df['male'] == 1\n",
    "\n",
    "female_sal = df[females]\n",
    "male_sal =df[males]\n",
    "\n",
    "male_sal_avg = male_sal['salary'].mean()\n",
    "female_sal_avg = female_sal['salary'].mean()\n",
    "\n",
    "salaries = [male_sal_avg, female_sal_avg]\n",
    "\n",
    "label = ['male', 'female']\n",
    "\n",
    "x = np.arange(len(label))\n",
    "\n",
    "plt.bar(x, salaries)\n",
    "plt.xticks(x,label, fontsize=10, rotation=30)\n",
    "plt.ylabel('Salary', fontsize=10)\n",
    "plt.xlabel('Gender', fontsize=10)\n",
    "plt.show()\n",
    "\n"
   ]
  },
  {
   "cell_type": "code",
   "execution_count": 13,
   "metadata": {},
   "outputs": [
    {
     "name": "stderr",
     "output_type": "stream",
     "text": [
      "/home/umuzi/miniconda3/lib/python3.7/site-packages/scipy/stats/stats.py:1713: FutureWarning: Using a non-tuple sequence for multidimensional indexing is deprecated; use `arr[tuple(seq)]` instead of `arr[seq]`. In the future this will be interpreted as an array index, `arr[np.array(seq)]`, which will result either in an error or a different result.\n",
      "  return np.add.reduce(sorted[indexer] * weights, axis=axis) / sumval\n"
     ]
    },
    {
     "data": {
      "image/png": "[encoded data removed]",
      "text/plain": [
       "<Figure size 432x288 with 1 Axes>"
      ]
     },
     "metadata": {
      "needs_background": "light"
     },
     "output_type": "display_data"
    }
   ],
   "source": [
    "#Scatter plot between years worked and salary\n",
    "\n",
    "sns.regplot(df['yearsworked'], df['salary'])\n",
    "plt.xlabel('Year Worked')\n",
    "plt.ylabel('Salary')\n",
    "plt.show()"
   ]
  },
  {
   "cell_type": "code",
   "execution_count": 14,
   "metadata": {},
   "outputs": [],
   "source": [
    "#There more experience you have, there more pay you get. There is an imbalance because of the \n",
    "# less pay difference between males and females"
   ]
  },
  {
   "cell_type": "code",
   "execution_count": 18,
   "metadata": {},
   "outputs": [
    {
     "data": {
      "text/plain": [
       "(nan, 1.0)"
      ]
     },
     "execution_count": 18,
     "metadata": {},
     "output_type": "execute_result"
    }
   ],
   "source": [
    "#\n",
    "\n",
    "stats.pearsonr(salary, df['yearsworked'])"
   ]
  },
  {
   "cell_type": "code",
   "execution_count": null,
   "metadata": {},
   "outputs": [],
   "source": []
  }
 ],
 "metadata": {
  "kernelspec": {
   "display_name": "Python 3",
   "language": "python",
   "name": "python3"
  },
  "language_info": {
   "codemirror_mode": {
    "name": "ipython",
    "version": 3
   },
   "file_extension": ".py",
   "mimetype": "text/x-python",
   "name": "python",
   "nbconvert_exporter": "python",
   "pygments_lexer": "ipython3",
   "version": "3.7.0"
  }
 },
 "nbformat": 4,
 "nbformat_minor": 2
}
